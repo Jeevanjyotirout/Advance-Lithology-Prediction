{
 "cells": [
  {
   "cell_type": "code",
   "execution_count": 1,
   "id": "2fd8b78a-bca6-42ca-bdc4-9b86b699f597",
   "metadata": {},
   "outputs": [
    {
     "name": "stdout",
     "output_type": "stream",
     "text": [
      "Collecting numpy==1.23.5\n",
      "  Using cached numpy-1.23.5.tar.gz (10.7 MB)\n",
      "  Installing build dependencies ... \u001b[?25ldone\n",
      "\u001b[?25h  Getting requirements to build wheel ... \u001b[?25lerror\n",
      "  \u001b[1;31merror\u001b[0m: \u001b[1msubprocess-exited-with-error\u001b[0m\n",
      "  \n",
      "  \u001b[31m×\u001b[0m \u001b[32mGetting requirements to build wheel\u001b[0m did not run successfully.\n",
      "  \u001b[31m│\u001b[0m exit code: \u001b[1;36m1\u001b[0m\n",
      "  \u001b[31m╰─>\u001b[0m \u001b[31m[33 lines of output]\u001b[0m\n",
      "  \u001b[31m   \u001b[0m Traceback (most recent call last):\n",
      "  \u001b[31m   \u001b[0m   File \"/Users/krishnarana/Desktop/venv/lib/python3.12/site-packages/pip/_vendor/pyproject_hooks/_in_process/_in_process.py\", line 389, in <module>\n",
      "  \u001b[31m   \u001b[0m     main()\n",
      "  \u001b[31m   \u001b[0m   File \"/Users/krishnarana/Desktop/venv/lib/python3.12/site-packages/pip/_vendor/pyproject_hooks/_in_process/_in_process.py\", line 373, in main\n",
      "  \u001b[31m   \u001b[0m     json_out[\"return_val\"] = hook(**hook_input[\"kwargs\"])\n",
      "  \u001b[31m   \u001b[0m                              ^^^^^^^^^^^^^^^^^^^^^^^^^^^^\n",
      "  \u001b[31m   \u001b[0m   File \"/Users/krishnarana/Desktop/venv/lib/python3.12/site-packages/pip/_vendor/pyproject_hooks/_in_process/_in_process.py\", line 137, in get_requires_for_build_wheel\n",
      "  \u001b[31m   \u001b[0m     backend = _build_backend()\n",
      "  \u001b[31m   \u001b[0m               ^^^^^^^^^^^^^^^^\n",
      "  \u001b[31m   \u001b[0m   File \"/Users/krishnarana/Desktop/venv/lib/python3.12/site-packages/pip/_vendor/pyproject_hooks/_in_process/_in_process.py\", line 70, in _build_backend\n",
      "  \u001b[31m   \u001b[0m     obj = import_module(mod_path)\n",
      "  \u001b[31m   \u001b[0m           ^^^^^^^^^^^^^^^^^^^^^^^\n",
      "  \u001b[31m   \u001b[0m   File \"/Library/Frameworks/Python.framework/Versions/3.12/lib/python3.12/importlib/__init__.py\", line 90, in import_module\n",
      "  \u001b[31m   \u001b[0m     return _bootstrap._gcd_import(name[level:], package, level)\n",
      "  \u001b[31m   \u001b[0m            ^^^^^^^^^^^^^^^^^^^^^^^^^^^^^^^^^^^^^^^^^^^^^^^^^^^^\n",
      "  \u001b[31m   \u001b[0m   File \"<frozen importlib._bootstrap>\", line 1387, in _gcd_import\n",
      "  \u001b[31m   \u001b[0m   File \"<frozen importlib._bootstrap>\", line 1360, in _find_and_load\n",
      "  \u001b[31m   \u001b[0m   File \"<frozen importlib._bootstrap>\", line 1310, in _find_and_load_unlocked\n",
      "  \u001b[31m   \u001b[0m   File \"<frozen importlib._bootstrap>\", line 488, in _call_with_frames_removed\n",
      "  \u001b[31m   \u001b[0m   File \"<frozen importlib._bootstrap>\", line 1387, in _gcd_import\n",
      "  \u001b[31m   \u001b[0m   File \"<frozen importlib._bootstrap>\", line 1360, in _find_and_load\n",
      "  \u001b[31m   \u001b[0m   File \"<frozen importlib._bootstrap>\", line 1331, in _find_and_load_unlocked\n",
      "  \u001b[31m   \u001b[0m   File \"<frozen importlib._bootstrap>\", line 935, in _load_unlocked\n",
      "  \u001b[31m   \u001b[0m   File \"<frozen importlib._bootstrap_external>\", line 995, in exec_module\n",
      "  \u001b[31m   \u001b[0m   File \"<frozen importlib._bootstrap>\", line 488, in _call_with_frames_removed\n",
      "  \u001b[31m   \u001b[0m   File \"/private/var/folders/g2/9jj2xrwj617df4mpd4vryrxm0000gn/T/pip-build-env-rb_kmai4/overlay/lib/python3.12/site-packages/setuptools/__init__.py\", line 16, in <module>\n",
      "  \u001b[31m   \u001b[0m     import setuptools.version\n",
      "  \u001b[31m   \u001b[0m   File \"/private/var/folders/g2/9jj2xrwj617df4mpd4vryrxm0000gn/T/pip-build-env-rb_kmai4/overlay/lib/python3.12/site-packages/setuptools/version.py\", line 1, in <module>\n",
      "  \u001b[31m   \u001b[0m     import pkg_resources\n",
      "  \u001b[31m   \u001b[0m   File \"/private/var/folders/g2/9jj2xrwj617df4mpd4vryrxm0000gn/T/pip-build-env-rb_kmai4/overlay/lib/python3.12/site-packages/pkg_resources/__init__.py\", line 2172, in <module>\n",
      "  \u001b[31m   \u001b[0m     register_finder(pkgutil.ImpImporter, find_on_path)\n",
      "  \u001b[31m   \u001b[0m                     ^^^^^^^^^^^^^^^^^^^\n",
      "  \u001b[31m   \u001b[0m AttributeError: module 'pkgutil' has no attribute 'ImpImporter'. Did you mean: 'zipimporter'?\n",
      "  \u001b[31m   \u001b[0m \u001b[31m[end of output]\u001b[0m\n",
      "  \n",
      "  \u001b[1;35mnote\u001b[0m: This error originates from a subprocess, and is likely not a problem with pip.\n",
      "\u001b[1;31merror\u001b[0m: \u001b[1msubprocess-exited-with-error\u001b[0m\n",
      "\n",
      "\u001b[31m×\u001b[0m \u001b[32mGetting requirements to build wheel\u001b[0m did not run successfully.\n",
      "\u001b[31m│\u001b[0m exit code: \u001b[1;36m1\u001b[0m\n",
      "\u001b[31m╰─>\u001b[0m See above for output.\n",
      "\n",
      "\u001b[1;35mnote\u001b[0m: This error originates from a subprocess, and is likely not a problem with pip.\n",
      "\u001b[?25hNote: you may need to restart the kernel to use updated packages.\n"
     ]
    }
   ],
   "source": [
    "pip install numpy==1.23.5"
   ]
  },
  {
   "cell_type": "code",
   "execution_count": 3,
   "id": "d413c800-7c5a-4c8f-9874-d86e2a12914a",
   "metadata": {},
   "outputs": [],
   "source": [
    "\n",
    "\n",
    "import fasttext\n",
    "import pandas as pd\n",
    "import matplotlib.pyplot as plt\n",
    "from wordcloud import WordCloud\n",
    "import numpy as np"
   ]
  },
  {
   "cell_type": "code",
   "execution_count": 4,
   "id": "08b2672e-b9b2-47b6-806a-0441f4e7c138",
   "metadata": {},
   "outputs": [],
   "source": [
    "# Step 1: Load the trained model\n",
    "model = fasttext.load_model(\"model_amzn.bin\")"
   ]
  },
  {
   "cell_type": "code",
   "execution_count": 5,
   "id": "9f19500a-b3f6-4ef8-beb3-eb75c90d3252",
   "metadata": {},
   "outputs": [],
   "source": [
    "with open(\"test.ft.txt\", \"r\") as file:\n",
    "    test_reviews = file.readlines()"
   ]
  },
  {
   "cell_type": "code",
   "execution_count": 9,
   "id": "06b9c48b-1884-4ad1-a13b-ba36a3a7e520",
   "metadata": {},
   "outputs": [
    {
     "name": "stdout",
     "output_type": "stream",
     "text": [
      "Requirement already satisfied: fasttext in ./lib/python3.12/site-packages (0.9.3)\n",
      "Requirement already satisfied: pandas in ./lib/python3.12/site-packages (2.2.3)\n",
      "Requirement already satisfied: matplotlib in ./lib/python3.12/site-packages (3.9.2)\n",
      "Requirement already satisfied: wordcloud in ./lib/python3.12/site-packages (1.9.4)\n",
      "Requirement already satisfied: pybind11>=2.2 in ./lib/python3.12/site-packages (from fasttext) (2.13.6)\n",
      "Requirement already satisfied: setuptools>=0.7.0 in ./lib/python3.12/site-packages (from fasttext) (75.1.0)\n",
      "Requirement already satisfied: numpy in ./lib/python3.12/site-packages (from fasttext) (2.1.1)\n",
      "Requirement already satisfied: python-dateutil>=2.8.2 in ./lib/python3.12/site-packages (from pandas) (2.9.0.post0)\n",
      "Requirement already satisfied: pytz>=2020.1 in ./lib/python3.12/site-packages (from pandas) (2024.2)\n",
      "Requirement already satisfied: tzdata>=2022.7 in ./lib/python3.12/site-packages (from pandas) (2024.2)\n",
      "Requirement already satisfied: contourpy>=1.0.1 in ./lib/python3.12/site-packages (from matplotlib) (1.3.0)\n",
      "Requirement already satisfied: cycler>=0.10 in ./lib/python3.12/site-packages (from matplotlib) (0.12.1)\n",
      "Requirement already satisfied: fonttools>=4.22.0 in ./lib/python3.12/site-packages (from matplotlib) (4.54.1)\n",
      "Requirement already satisfied: kiwisolver>=1.3.1 in ./lib/python3.12/site-packages (from matplotlib) (1.4.7)\n",
      "Requirement already satisfied: packaging>=20.0 in ./lib/python3.12/site-packages (from matplotlib) (24.1)\n",
      "Requirement already satisfied: pillow>=8 in ./lib/python3.12/site-packages (from matplotlib) (10.4.0)\n",
      "Requirement already satisfied: pyparsing>=2.3.1 in ./lib/python3.12/site-packages (from matplotlib) (3.1.4)\n",
      "Requirement already satisfied: six>=1.5 in ./lib/python3.12/site-packages (from python-dateutil>=2.8.2->pandas) (1.16.0)\n"
     ]
    }
   ],
   "source": [
    "\n",
    "# Step 1: Install Required Libraries\n",
    "!pip install fasttext pandas matplotlib wordcloud"
   ]
  },
  {
   "cell_type": "code",
   "execution_count": 10,
   "id": "ebfeb348-99bd-4d7b-a5dd-5a96c257ddc9",
   "metadata": {},
   "outputs": [],
   "source": [
    "import fasttext\n",
    "import pandas as pd\n",
    "import matplotlib.pyplot as plt\n",
    "from wordcloud import WordCloud\n",
    "import numpy as np\n",
    "import logging"
   ]
  },
  {
   "cell_type": "code",
   "execution_count": 12,
   "id": "3ee8e5e8-d4c3-4a99-84f1-0453a13551ac",
   "metadata": {},
   "outputs": [],
   "source": [
    "# Step 3: Configure Logging (to avoid printing too much data)\n",
    "logging.basicConfig(filename='debug.log', level=logging.INFO)"
   ]
  },
  {
   "cell_type": "code",
   "execution_count": 15,
   "id": "27940a22-c861-4ff5-a60a-e75ac4eb5867",
   "metadata": {},
   "outputs": [
    {
     "name": "stderr",
     "output_type": "stream",
     "text": [
      "Read 289M words\n",
      "Number of words:  5165173\n",
      "Number of labels: 2\n",
      "Progress: 100.0% words/sec/thread: 3012853 lr:  0.000000 avg.loss:  0.236755 ETA:   0h 0m 0s\n"
     ]
    }
   ],
   "source": [
    "# Step 4: Train the FastText Model\n",
    "try:\n",
    "    # Train the FastText model\n",
    "    model = fasttext.train_supervised(input=\"train.ft.txt\")\n",
    "    logging.info(\"Model trained successfully!\")\n",
    "    \n",
    "    # Save the trained model\n",
    "    model.save_model(\"model_amzn.bin\")\n",
    "    logging.info(\"Model saved as 'model_amzn.bin'.\")\n",
    "    \n",
    "    # Test the model on the test dataset\n",
    "    result = model.test(\"test.ft.txt\")\n",
    "    logging.info(f\"Test Results: Precision = {result[1]}, Recall = {result[2]}\")\n",
    "except Exception as e:\n",
    "    logging.error(f\"Error during training or testing: {e}\")"
   ]
  },
  {
   "cell_type": "code",
   "execution_count": 16,
   "id": "c0b16777-74e6-46dd-8f69-89b81f7bef23",
   "metadata": {},
   "outputs": [
    {
     "name": "stdout",
     "output_type": "stream",
     "text": [
      "Empty DataFrame\n",
      "Columns: [Review, Sentiment]\n",
      "Index: []\n"
     ]
    }
   ],
   "source": [
    "# Step 5: Predict Sentiments for Test Data\n",
    "try:\n",
    "    # Load test data for predictions\n",
    "    with open(\"test.ft.txt\", \"r\") as file:\n",
    "        test_reviews = file.readlines()\n",
    "    \n",
    "    # Predict sentiments for each review\n",
    "    predictions = []\n",
    "    for review in test_reviews:\n",
    "        try:\n",
    "            # Remove the label from the review text\n",
    "            text = review.split(\" \", 1)[1].strip()\n",
    "            \n",
    "            # Predict sentiment\n",
    "            labels, probabilities = model.predict(text)  # Get the predicted label and probability\n",
    "            label = labels[0]  # Extract the first label\n",
    "            sentiment = label.replace(\"__label__\", \"\").capitalize()  # Format the label\n",
    "            predictions.append((text, sentiment))\n",
    "        except ValueError as e:\n",
    "            logging.warning(f\"Error predicting sentiment for review: {text}\")\n",
    "            logging.warning(f\"Error details: {e}\")\n",
    "            continue\n",
    "    \n",
    "    # Convert predictions to a DataFrame\n",
    "    df = pd.DataFrame(predictions, columns=[\"Review\", \"Sentiment\"])\n",
    "    \n",
    "    # Display the first few rows of the DataFrame (to avoid IOPub data rate issues)\n",
    "    print(df.head())\n",
    "    \n",
    "    # Save the full DataFrame to a CSV file\n",
    "    df.to_csv(\"sentiment_analysis_results.csv\", index=False)\n",
    "    logging.info(\"Full results saved to 'sentiment_analysis_results.csv'.\")\n",
    "except Exception as e:\n",
    "    logging.error(f\"Error during sentiment prediction: {e}\")"
   ]
  },
  {
   "cell_type": "code",
   "execution_count": 17,
   "id": "431ff96b-e767-4d88-86d0-cf2acfe43731",
   "metadata": {},
   "outputs": [
    {
     "data": {
      "image/png": "[encoded data removed]",
      "text/plain": [
       "<Figure size 800x500 with 1 Axes>"
      ]
     },
     "metadata": {},
     "output_type": "display_data"
    }
   ],
   "source": [
    "# Step 6: Visualize Sentiment Analysis Results\n",
    "try:\n",
    "    # Sentiment Distribution\n",
    "    sentiment_counts = df[\"Sentiment\"].value_counts()\n",
    "    plt.figure(figsize=(8, 5))\n",
    "    sentiment_counts.plot(kind=\"bar\", color=[\"green\", \"red\", \"blue\"])\n",
    "    plt.title(\"Sentiment Analysis of Customer Reviews\")\n",
    "    plt.xlabel(\"Sentiment\")\n",
    "    plt.ylabel(\"Number of Reviews\")\n",
    "    plt.show()\n",
    "    \n",
    "    # Word Cloud for Positive Reviews\n",
    "    positive_reviews = \" \".join(df[df[\"Sentiment\"] == \"Positive\"][\"Review\"])\n",
    "    wordcloud = WordCloud(width=800, height=400, background_color=\"white\").generate(positive_reviews)\n",
    "    plt.figure(figsize=(10, 5))\n",
    "    plt.imshow(wordcloud, interpolation=\"bilinear\")\n",
    "    plt.axis(\"off\")\n",
    "    plt.title(\"Word Cloud for Positive Reviews\")\n",
    "    plt.show()\n",
    "    \n",
    "    # Word Cloud for Negative Reviews\n",
    "    negative_reviews = \" \".join(df[df[\"Sentiment\"] == \"Negative\"][\"Review\"])\n",
    "    wordcloud = WordCloud(width=800, height=400, background_color=\"white\").generate(negative_reviews)\n",
    "    plt.figure(figsize=(10, 5))\n",
    "    plt.imshow(wordcloud, interpolation=\"bilinear\")\n",
    "    plt.axis(\"off\")\n",
    "    plt.title(\"Word Cloud for Negative Reviews\")\n",
    "    plt.show()\n",
    "except Exception as e:\n",
    "    logging.error(f\"Error during visualization: {e}\")\n"
   ]
  },
  {
   "cell_type": "code",
   "execution_count": 18,
   "id": "ef5096cd-f269-453b-8a38-3ef412443e31",
   "metadata": {},
   "outputs": [
    {
     "name": "stdout",
     "output_type": "stream",
     "text": [
      "Insights:\n",
      "- Positive Reviews: 0\n",
      "- Negative Reviews: 0\n",
      "- Neutral Reviews: 0\n",
      "There are significant concerns that need to be addressed.\n"
     ]
    }
   ],
   "source": [
    "try:\n",
    "    # Print insights based on sentiment distribution\n",
    "    print(\"Insights:\")\n",
    "    print(f\"- Positive Reviews: {sentiment_counts.get('Positive', 0)}\")\n",
    "    print(f\"- Negative Reviews: {sentiment_counts.get('Negative', 0)}\")\n",
    "    print(f\"- Neutral Reviews: {sentiment_counts.get('Neutral', 0)}\")\n",
    "    \n",
    "    # Example actionable insights\n",
    "    if sentiment_counts.get(\"Positive\", 0) > sentiment_counts.get(\"Negative\", 0):\n",
    "        print(\"Most customers are satisfied with the product/service.\")\n",
    "    else:\n",
    "        print(\"There are significant concerns that need to be addressed.\")\n",
    "except Exception as e:\n",
    "    logging.error(f\"Error generating insights: {e}\")"
   ]
  },
  {
   "cell_type": "code",
   "execution_count": 19,
   "id": "12c70d22-0ade-4d79-8463-2041817974a4",
   "metadata": {},
   "outputs": [
    {
     "name": "stdout",
     "output_type": "stream",
     "text": [
      "Requirement already satisfied: fasttext in ./lib/python3.12/site-packages (0.9.3)\n",
      "Requirement already satisfied: pandas in ./lib/python3.12/site-packages (2.2.3)\n",
      "Requirement already satisfied: matplotlib in ./lib/python3.12/site-packages (3.9.2)\n",
      "Requirement already satisfied: wordcloud in ./lib/python3.12/site-packages (1.9.4)\n",
      "Requirement already satisfied: pybind11>=2.2 in ./lib/python3.12/site-packages (from fasttext) (2.13.6)\n",
      "Requirement already satisfied: setuptools>=0.7.0 in ./lib/python3.12/site-packages (from fasttext) (75.1.0)\n",
      "Requirement already satisfied: numpy in ./lib/python3.12/site-packages (from fasttext) (2.1.1)\n",
      "Requirement already satisfied: python-dateutil>=2.8.2 in ./lib/python3.12/site-packages (from pandas) (2.9.0.post0)\n",
      "Requirement already satisfied: pytz>=2020.1 in ./lib/python3.12/site-packages (from pandas) (2024.2)\n",
      "Requirement already satisfied: tzdata>=2022.7 in ./lib/python3.12/site-packages (from pandas) (2024.2)\n",
      "Requirement already satisfied: contourpy>=1.0.1 in ./lib/python3.12/site-packages (from matplotlib) (1.3.0)\n",
      "Requirement already satisfied: cycler>=0.10 in ./lib/python3.12/site-packages (from matplotlib) (0.12.1)\n",
      "Requirement already satisfied: fonttools>=4.22.0 in ./lib/python3.12/site-packages (from matplotlib) (4.54.1)\n",
      "Requirement already satisfied: kiwisolver>=1.3.1 in ./lib/python3.12/site-packages (from matplotlib) (1.4.7)\n",
      "Requirement already satisfied: packaging>=20.0 in ./lib/python3.12/site-packages (from matplotlib) (24.1)\n",
      "Requirement already satisfied: pillow>=8 in ./lib/python3.12/site-packages (from matplotlib) (10.4.0)\n",
      "Requirement already satisfied: pyparsing>=2.3.1 in ./lib/python3.12/site-packages (from matplotlib) (3.1.4)\n",
      "Requirement already satisfied: six>=1.5 in ./lib/python3.12/site-packages (from python-dateutil>=2.8.2->pandas) (1.16.0)\n"
     ]
    },
    {
     "name": "stderr",
     "output_type": "stream",
     "text": [
      "Read 289M words\n",
      "Number of words:  5165173\n",
      "Number of labels: 2\n",
      "Progress: 100.0% words/sec/thread: 2938515 lr:  0.000000 avg.loss:  0.236737 ETA:   0h 0m 0s 87.5% words/sec/thread: 3075618 lr:  0.012499 avg.loss:  0.240641 ETA:   0h 0m 8s\n"
     ]
    },
    {
     "name": "stdout",
     "output_type": "stream",
     "text": [
      "Empty DataFrame\n",
      "Columns: [Review, Sentiment]\n",
      "Index: []\n",
      "Insights:\n",
      "- Positive Reviews: 0\n",
      "- Negative Reviews: 0\n",
      "- Neutral Reviews: 0\n",
      "There are significant concerns that need to be addressed.\n"
     ]
    },
    {
     "data": {
      "image/png": "[encoded data removed]",
      "text/plain": [
       "<Figure size 800x500 with 1 Axes>"
      ]
     },
     "metadata": {},
     "output_type": "display_data"
    }
   ],
   "source": [
    "# Step 1: Install Required Libraries\n",
    "!pip install fasttext pandas matplotlib wordcloud\n",
    "\n",
    "# Step 2: Import Libraries\n",
    "import fasttext\n",
    "import pandas as pd\n",
    "import matplotlib.pyplot as plt\n",
    "from wordcloud import WordCloud\n",
    "import numpy as np\n",
    "import logging\n",
    "\n",
    "# Step 3: Configure Logging (to avoid printing too much data)\n",
    "logging.basicConfig(filename='debug.log', level=logging.INFO)\n",
    "\n",
    "# Step 4: Train the FastText Model\n",
    "try:\n",
    "    # Train the FastText model\n",
    "    model = fasttext.train_supervised(input=\"train.ft.txt\")\n",
    "    logging.info(\"Model trained successfully!\")\n",
    "    \n",
    "    # Save the trained model\n",
    "    model.save_model(\"model_amzn.bin\")\n",
    "    logging.info(\"Model saved as 'model_amzn.bin'.\")\n",
    "    \n",
    "    # Test the model on the test dataset\n",
    "    result = model.test(\"test.ft.txt\")\n",
    "    logging.info(f\"Test Results: Precision = {result[1]}, Recall = {result[2]}\")\n",
    "except Exception as e:\n",
    "    logging.error(f\"Error during training or testing: {e}\")\n",
    "\n",
    "# Step 5: Predict Sentiments for Test Data\n",
    "try:\n",
    "    # Load test data for predictions\n",
    "    with open(\"test.ft.txt\", \"r\") as file:\n",
    "        test_reviews = file.readlines()\n",
    "    \n",
    "    # Predict sentiments for each review\n",
    "    predictions = []\n",
    "    for review in test_reviews:\n",
    "        try:\n",
    "            # Remove the label from the review text\n",
    "            text = review.split(\" \", 1)[1].strip()\n",
    "            \n",
    "            # Predict sentiment\n",
    "            labels, probabilities = model.predict(text)  # Get the predicted label and probability\n",
    "            label = labels[0]  # Extract the first label\n",
    "            sentiment = label.replace(\"__label__\", \"\").capitalize()  # Format the label\n",
    "            predictions.append((text, sentiment))\n",
    "        except ValueError as e:\n",
    "            logging.warning(f\"Error predicting sentiment for review: {text}\")\n",
    "            logging.warning(f\"Error details: {e}\")\n",
    "            continue\n",
    "    \n",
    "    # Convert predictions to a DataFrame\n",
    "    df = pd.DataFrame(predictions, columns=[\"Review\", \"Sentiment\"])\n",
    "    \n",
    "    # Display the first few rows of the DataFrame (to avoid IOPub data rate issues)\n",
    "    print(df.head())\n",
    "    \n",
    "    # Save the full DataFrame to a CSV file\n",
    "    df.to_csv(\"sentiment_analysis_results.csv\", index=False)\n",
    "    logging.info(\"Full results saved to 'sentiment_analysis_results.csv'.\")\n",
    "except Exception as e:\n",
    "    logging.error(f\"Error during sentiment prediction: {e}\")\n",
    "\n",
    "# Step 6: Visualize Sentiment Analysis Results\n",
    "try:\n",
    "    # Sentiment Distribution\n",
    "    sentiment_counts = df[\"Sentiment\"].value_counts()\n",
    "    plt.figure(figsize=(8, 5))\n",
    "    sentiment_counts.plot(kind=\"bar\", color=[\"green\", \"red\", \"blue\"])\n",
    "    plt.title(\"Sentiment Analysis of Customer Reviews\")\n",
    "    plt.xlabel(\"Sentiment\")\n",
    "    plt.ylabel(\"Number of Reviews\")\n",
    "    plt.show()\n",
    "    \n",
    "    # Word Cloud for Positive Reviews\n",
    "    positive_reviews = \" \".join(df[df[\"Sentiment\"] == \"Positive\"][\"Review\"])\n",
    "    wordcloud = WordCloud(width=800, height=400, background_color=\"white\").generate(positive_reviews)\n",
    "    plt.figure(figsize=(10, 5))\n",
    "    plt.imshow(wordcloud, interpolation=\"bilinear\")\n",
    "    plt.axis(\"off\")\n",
    "    plt.title(\"Word Cloud for Positive Reviews\")\n",
    "    plt.show()\n",
    "    \n",
    "    # Word Cloud for Negative Reviews\n",
    "    negative_reviews = \" \".join(df[df[\"Sentiment\"] == \"Negative\"][\"Review\"])\n",
    "    wordcloud = WordCloud(width=800, height=400, background_color=\"white\").generate(negative_reviews)\n",
    "    plt.figure(figsize=(10, 5))\n",
    "    plt.imshow(wordcloud, interpolation=\"bilinear\")\n",
    "    plt.axis(\"off\")\n",
    "    plt.title(\"Word Cloud for Negative Reviews\")\n",
    "    plt.show()\n",
    "except Exception as e:\n",
    "    logging.error(f\"Error during visualization: {e}\")\n",
    "\n",
    "# Step 7: Generate Insights\n",
    "try:\n",
    "    # Print insights based on sentiment distribution\n",
    "    print(\"Insights:\")\n",
    "    print(f\"- Positive Reviews: {sentiment_counts.get('Positive', 0)}\")\n",
    "    print(f\"- Negative Reviews: {sentiment_counts.get('Negative', 0)}\")\n",
    "    print(f\"- Neutral Reviews: {sentiment_counts.get('Neutral', 0)}\")\n",
    "    \n",
    "    # Example actionable insights\n",
    "    if sentiment_counts.get(\"Positive\", 0) > sentiment_counts.get(\"Negative\", 0):\n",
    "        print(\"Most customers are satisfied with the product/service.\")\n",
    "    else:\n",
    "        print(\"There are significant concerns that need to be addressed.\")\n",
    "except Exception as e:\n",
    "    logging.error(f\"Error generating insights: {e}\")"
   ]
  },
  {
   "cell_type": "code",
   "execution_count": 6,
   "id": "c96db60a-4738-40cd-a57e-0ab1ce3eb398",
   "metadata": {},
   "outputs": [
    {
     "name": "stderr",
     "output_type": "stream",
     "text": [
      "IOPub data rate exceeded.\n",
      "The Jupyter server will temporarily stop sending output\n",
      "to the client in order to avoid crashing it.\n",
      "To change this limit, set the config variable\n",
      "`--ServerApp.iopub_data_rate_limit`.\n",
      "\n",
      "Current values:\n",
      "ServerApp.iopub_data_rate_limit=1000000.0 (bytes/sec)\n",
      "ServerApp.rate_limit_window=3.0 (secs)\n",
      "\n"
     ]
    }
   ],
   "source": [
    "# Step 3: Predict sentiments for each review\n",
    "predictions = []\n",
    "for review in test_reviews:\n",
    "    # Remove the label from the review text\n",
    "    text = review.split(\" \", 1)[1].strip()\n",
    "    # Predict sentiment\n",
    "    try:\n",
    "        labels, probabilities = model.predict(text)  # Get the predicted label and probability\n",
    "        label = labels[0]  # Extract the first label\n",
    "        sentiment = label.replace(\"__label__\", \"\").capitalize()  # Format the label\n",
    "        predictions.append((text, sentiment))\n",
    "    except ValueError as e:\n",
    "        print(f\"Error predicting sentiment for review: {text}\")\n",
    "        print(f\"Error details: {e}\")\n",
    "        continue"
   ]
  }
 ],
 "metadata": {
  "kernelspec": {
   "display_name": "Python 3 (ipykernel)",
   "language": "python",
   "name": "python3"
  },
  "language_info": {
   "codemirror_mode": {
    "name": "ipython",
    "version": 3
   },
   "file_extension": ".py",
   "mimetype": "text/x-python",
   "name": "python",
   "nbconvert_exporter": "python",
   "pygments_lexer": "ipython3",
   "version": "3.12.4"
  }
 },
 "nbformat": 4,
 "nbformat_minor": 5
}
